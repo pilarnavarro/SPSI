{
 "cells": [
  {
   "cell_type": "markdown",
   "metadata": {},
   "source": [
    "- Pilar Navarro Ramírez\n",
    "- Antonio Gámiz Delgado"
   ]
  },
  {
   "cell_type": "markdown",
   "metadata": {},
   "source": [
    "## Tarea 2)"
   ]
  },
  {
   "cell_type": "code",
   "execution_count": 9,
   "metadata": {},
   "outputs": [],
   "source": [
    "from math import log, floor\n",
    "from itertools import chain, groupby\n",
    "\n",
    "alphabet = 'ABCDEFGHIJKLMNOPQRSTUVWXYZ'\n",
    "n = len(alphabet)\n",
    "m = int(log(len(alphabet),10))+1\n",
    "f = '0{0}d'.format(str(m))\n",
    "chNum = {v:format(i,f) for i, v in enumerate(alphabet)}\n",
    "numCh = {v:i for i, v in chNum.items()}\n",
    "\n",
    "alphSpecials = {\n",
    "            'Á' : 'A',\n",
    "            'É' : 'E',\n",
    "            'Í' : 'I',\n",
    "            'Ó' : 'O',\n",
    "            'Ú' : 'U',\n",
    "            'Ä' : 'A',\n",
    "            'Ë' : 'E',\n",
    "            'Ï' : 'I',\n",
    "            'Ö' : 'O',\n",
    "            'Ü' : 'U',\n",
    "            'Ñ' : 'GN'\n",
    "        }"
   ]
  },
  {
   "cell_type": "code",
   "execution_count": 10,
   "metadata": {},
   "outputs": [],
   "source": [
    "class Message:\n",
    "\n",
    "    def _flatten(self,listOfLists:list) -> list:\n",
    "        \"\"\"Flatten one level of nesting\"\"\"\n",
    "        return chain.from_iterable(listOfLists)\n",
    "    \n",
    "    def _rBlanks(self,strng:str) -> str:\n",
    "        \"\"\"Removes blanks of a string strng and converts to uppercase\"\"\"\n",
    "        return ''.join(strng.split()).upper()\n",
    "    \n",
    "    def _normalize(self,strng:str) -> str:\n",
    "        \"\"\"\n",
    "        Removes blanks spaces of the string 'strng'; then removes accents\n",
    "        according to 'alphSpecials'. If character 'ñ' occurs in 'strng' then\n",
    "        'GN' appears in 'accum' as an entry, therefore '_flatten' is needed.\n",
    "        \"\"\"\n",
    "        s = self._rBlanks(strng)\n",
    "        accum = []\n",
    "        for ch in s:\n",
    "            if ch in alphSpecials:\n",
    "                accum.append(alphSpecials[ch])\n",
    "            else:\n",
    "                accum.append(ch)\n",
    "        return filter(lambda x: x in alphabet,self._flatten(accum))\n",
    "\n",
    "    def __init__(self,strng):\n",
    "        x = self._normalize(strng)\n",
    "        self.content = ''.join(x)\n",
    "        self.length = len(self.content)\n",
    "        \n",
    "    def __str__(self):\n",
    "        return self.content"
   ]
  },
  {
   "cell_type": "code",
   "execution_count": 11,
   "metadata": {},
   "outputs": [],
   "source": [
    "from math import ceil\n",
    "class Vigenere(Message):\n",
    "    \"\"\" Implementation of the Vigenere cryptosystem \"\"\"\n",
    "    \n",
    "    def __init__(self,strng,k):\n",
    "        Message.__init__(self,strng)\n",
    "        self.clave=Message(k)\n",
    "\n",
    "    def _translation(self, c: str, k: str, mode=True) -> str:\n",
    "        \"\"\" Translate c as many letters as k indicates\n",
    "        \n",
    "        Args:\n",
    "            c (str): letter to be translated\n",
    "            k (str): letter to translate\n",
    "            mode (bool): indicate if the translation is forward or backward.\n",
    "        \n",
    "        Return:\n",
    "            Letter c translated using k, backward if 'mode' is True, forward\n",
    "            otherwise.\n",
    "        \"\"\"\n",
    "        if mode:\n",
    "            return numCh[format((int(chNum[c])-int(chNum[k]))%len(alphabet),f)]\n",
    "        return numCh[format((int(chNum[c])+int(chNum[k]))%len(alphabet),f)]\n",
    "    \n",
    "        \n",
    "    def encipher(self,mode=True):\n",
    "        \"\"\" Performs enciphering of a string. \n",
    "        Use mode 'True' in order to decipher and 'False' for \n",
    "        enciphering \"\"\"\n",
    "        \n",
    "        k=self.clave.content\n",
    "        m=self.content\n",
    "        while len(k)<len(m):\n",
    "            k=k+k\n",
    "        if len(k)>len(m):\n",
    "            truncar=len(k)-len(m)\n",
    "            k=k[:-truncar]\n",
    "\n",
    "        cipher = [self._translation(m[i],k[i],mode) for i in range(len(k))]\n",
    "        return ''.join(cipher)"
   ]
  },
  {
   "cell_type": "code",
   "execution_count": 12,
   "metadata": {},
   "outputs": [],
   "source": [
    "k='hola'"
   ]
  },
  {
   "cell_type": "code",
   "execution_count": 13,
   "metadata": {},
   "outputs": [],
   "source": [
    "M = Vigenere('the secret protects itself',k)"
   ]
  },
  {
   "cell_type": "code",
   "execution_count": 14,
   "metadata": {},
   "outputs": [
    {
     "data": {
      "text/plain": [
       "'THESECRETPROTECTSITSELF'"
      ]
     },
     "execution_count": 14,
     "metadata": {},
     "output_type": "execute_result"
    }
   ],
   "source": [
    "M.content"
   ]
  },
  {
   "cell_type": "code",
   "execution_count": 15,
   "metadata": {},
   "outputs": [
    {
     "data": {
      "text/plain": [
       "'AVPSLQCEADCOASNTZWESLZQ'"
      ]
     },
     "execution_count": 15,
     "metadata": {},
     "output_type": "execute_result"
    }
   ],
   "source": [
    "M.encipher(False)"
   ]
  },
  {
   "cell_type": "code",
   "execution_count": 16,
   "metadata": {},
   "outputs": [],
   "source": [
    "C=Vigenere(M.encipher(False),k)"
   ]
  },
  {
   "cell_type": "code",
   "execution_count": 17,
   "metadata": {},
   "outputs": [
    {
     "data": {
      "text/plain": [
       "'THESECRETPROTECTSITSELF'"
      ]
     },
     "execution_count": 17,
     "metadata": {},
     "output_type": "execute_result"
    }
   ],
   "source": [
    "C.encipher()"
   ]
  },
  {
   "cell_type": "markdown",
   "metadata": {},
   "source": [
    "# Tarea 3)\n"
   ]
  },
  {
   "cell_type": "code",
   "execution_count": 18,
   "metadata": {},
   "outputs": [],
   "source": [
    "from collections import Counter\n",
    "from functools import reduce\n",
    "from math import floor"
   ]
  },
  {
   "cell_type": "code",
   "execution_count": 19,
   "metadata": {},
   "outputs": [],
   "source": [
    "LETTER_FREQUENCIES = {'A': 0.08167, 'B': 0.01492, 'C': 0.02782, 'D': 0.04253, 'E': 0.12702, 'F': 0.02228, 'G': 0.02015,\n",
    "               'H': 0.06094, 'I': 0.06966, 'J': 0.00153, 'K': 0.00772, 'L': 0.04025, 'M': 0.02406, 'N': 0.06749,\n",
    "               'O': 0.07507, 'P': 0.01929, 'Q': 0.00095, 'R': 0.05987, 'S': 0.06327, 'T': 0.09056, 'U': 0.02758,\n",
    "               'V': 0.00978, 'W': 0.02360, 'X': 0.00150, 'Y': 0.01974, 'Z': 0.00074}\n",
    "\n",
    "EN_IC = 0.0685"
   ]
  },
  {
   "cell_type": "code",
   "execution_count": 20,
   "metadata": {},
   "outputs": [],
   "source": [
    "class VigenereAttack():\n",
    "    def __init__(self, ciphered_text):\n",
    "        self.M = ciphered_text\n",
    "        \n",
    "    def IC(self, message):\n",
    "        \"\"\" Compute the IC of message \"\"\"\n",
    "        \n",
    "        N = len(message)\n",
    "        frequencies = Counter(message)\n",
    "        K0 = 0\n",
    "        for x in alphabet:\n",
    "            K0 += frequencies[x]*(frequencies[x]-1)\n",
    "        K0 /= N*(N-1)\n",
    "        return K0\n",
    "\n",
    "    def split(self, n):\n",
    "        \"\"\" Split self.M in n part and group the resulting\n",
    "        parts by columns \"\"\"\n",
    "        \n",
    "        parts = []\n",
    "        for x in range(n):\n",
    "            part = \"\"\n",
    "            i = x\n",
    "            while i < len(self.M):\n",
    "                part += self.M[i]\n",
    "                i+=n\n",
    "            parts.append(part)\n",
    "        return parts\n",
    "\n",
    "    def factors(self, x):\n",
    "        \"\"\" Compute the factors of x, excluding 1 \"\"\"\n",
    "        \n",
    "        return [i for i in range(2,x+1) if x%i==0]\n",
    "\n",
    "    def find_all(self, K):\n",
    "        \"\"\" Find the distance between all repeated substrings\n",
    "        with length K \"\"\"\n",
    "        \n",
    "        found = []\n",
    "        for index in range(len(self.M)-K):\n",
    "            substring = self.M[index:index+K]\n",
    "            tmp_string = self.M\n",
    "            while substring in tmp_string:\n",
    "                begin = tmp_string.index(substring)\n",
    "                tmp_string = self.M[begin+K::]\n",
    "                if substring in tmp_string:\n",
    "                    end = tmp_string.index(substring)\n",
    "                    found.append(end+K-begin)\n",
    "                break\n",
    "        return found\n",
    "\n",
    "    def most_common_factors(self, start, end):\n",
    "        \"\"\" Compute the first six most common factors of the\n",
    "        distance between all repeated substrings with length \n",
    "        greater or equal than start and lower  or equal than \n",
    "        end\"\"\"\n",
    "        \n",
    "        ocurrences = Counter()\n",
    "        for K in range(start, end):\n",
    "            for distance in self.find_all(K):\n",
    "                ocurrences.update(self.factors(distance))\n",
    "        return ocurrences.most_common(6)\n",
    "\n",
    "    def compute_ICs(self, start=3, end=11, n=6):\n",
    "        \"\"\" Compute the IC of the parts of self.M splited\n",
    "        using self.split \"\"\"\n",
    "        factorICs = {}\n",
    "        for K in self.most_common_factors(start, end):\n",
    "            parts = self.split(K[0])\n",
    "            ICs = []\n",
    "            for part in parts:\n",
    "                ICs.append(self.IC(part))\n",
    "            factorICs[K[0]] = ICs\n",
    "        return factorICs\n",
    "    \n",
    "    def find_key_length(self):\n",
    "        \"\"\" Compares the IC of each possible key value and return\n",
    "        the most similar to the IC of the language \"\"\"\n",
    "        \n",
    "        factorICs = self.compute_ICs()\n",
    "        for key in factorICs.keys():\n",
    "            averageIC = reduce(lambda x,y: x+y, factorICs[key], 0) / len(factorICs[key])\n",
    "            if EN_IC - 0.01 < averageIC and averageIC < EN_IC + 0.01:\n",
    "                return key\n",
    "    \n",
    "    def mic(self, text):\n",
    "        \"\"\" Compute the MIC of text \"\"\"\n",
    "        freqX = Counter(text)\n",
    "        result = 0\n",
    "        for char in alphabet:\n",
    "            result += freqX[char]*LETTER_FREQUENCIES[char]\n",
    "        return result / (len(text)*len(alphabet))\n",
    "\n",
    "    def find_key_letter(self, text):\n",
    "        \"\"\" Find the letter (probably) used to cipher text \"\"\"\n",
    "        \n",
    "        key_letter = ''\n",
    "        max_corr = 0\n",
    "        for letter in alphabet:\n",
    "            shifted = Vigenere(text, letter).encipher()\n",
    "            corr = self.mic(shifted)\n",
    "            if corr > max_corr:\n",
    "                max_corr = corr\n",
    "                key_letter = letter\n",
    "\n",
    "        return key_letter\n",
    "\n",
    "    def find_key(self, n):\n",
    "        \"\"\" Find the key (probably) used to cipher self.M \"\"\"\n",
    "        \n",
    "        letterFreq = Counter(self.M)\n",
    "        columns = self.split(n)\n",
    "        key=''\n",
    "        for column in columns:\n",
    "            key += self.find_key_letter(column)\n",
    "        return key\n",
    "    \n",
    "    def friedman(self, k0 = 0):\n",
    "        \"\"\" Compute the value of the Friedman test\n",
    "            \n",
    "            Args:\n",
    "                k0 (float): average IC of the parts of the message\n",
    "        \"\"\"\n",
    "        \n",
    "        KP = 0.0755\n",
    "        KR = 1 / 27\n",
    "        N = len(self.M)\n",
    "        sumFreq = 0\n",
    "        freq = Counter(self.M)\n",
    "        for char in freq:\n",
    "            sumFreq += freq[char]*(freq[char]-1)\n",
    "        K0 = sumFreq / (N * (N-1)) if k0==0 else k0\n",
    "        return (KP-KR)/(K0-KR)\n",
    "    \n",
    "    def find_key_length_friedman(self):\n",
    "        \"\"\" Find the key length (probably) using the Friedman approach \"\"\"\n",
    "        \n",
    "        K = floor(self.friedman())\n",
    "        friedmanValues = []\n",
    "        for k in range(K-2,K+3):\n",
    "            parts = self.split(k)\n",
    "            averageIC = 0\n",
    "            for part in parts:\n",
    "                averageIC += self.IC(part)\n",
    "            averageIC /= k\n",
    "            friedmanValues.append(self.friedman(averageIC))\n",
    "        optimoIC = min(friedmanValues)\n",
    "        possibleKeyLength = friedmanValues.index(optimoIC)+K-2\n",
    "        return possibleKeyLength"
   ]
  },
  {
   "cell_type": "markdown",
   "metadata": {},
   "source": [
    "# Tarea 4)"
   ]
  },
  {
   "cell_type": "code",
   "execution_count": 21,
   "metadata": {},
   "outputs": [],
   "source": [
    "def readTxt(file):\n",
    "    with open(file,'r') as f:\n",
    "        lines = f.readlines()\n",
    "    accum = [k[:-1] for k in lines]\n",
    "    return ''.join(accum)"
   ]
  },
  {
   "cell_type": "markdown",
   "metadata": {},
   "source": [
    "Leemos el mensaje, y lo almacenamos en M."
   ]
  },
  {
   "cell_type": "code",
   "execution_count": 22,
   "metadata": {},
   "outputs": [
    {
     "data": {
      "text/plain": [
       "'UECWKDVLOTTVACKTPVGEZQMDAMRNPDDUXLBUICAMRHOECBHSPQLVIWOFFEAILPNTESMLDRUURIFAEQTTPXADWIAWLACCRPBHSRZIVQWOFROGTTNNXEVIVIBPDTTGAHVIACLAYKGJIEQHGECMESNNOCTHSGGNVWTQHKBPRHMVUOYWLIAFIRIGDBOEBQLIGWARQHNLOISQKEPEIDVXXNETPAXNZGDXWWEYQCTIGONNGJVHSQGEATHSYGSDVVOAQCXLHSPQMDMETRTMDUXTEQQJMFAEEAAIMEZREGIMUECICBXRVQRSMENNWTXTNSRNBPZHMRVRDYNECGSPMEAVTENXKEQKCTTHSPCMQQHSQGTXMFPBGLWQZRBOEIZHQHGRTOBSGTATTZRNFOSMLEDWESIWDRNAPBFOFHEGIXLFVOGUZLNUSRCRAZGZRTTAYFEHKHMCQNTZLENPUCKBAYCICUBNRPCXIWEYCSIMFPRUTPLXSYCBGCCUYCQJMWIEKGTUBRHVATTLEKVACBXQHGPDZEANNTJZTDRNSDTFEVPDXKTMVNAIQMUQNOHKKOAQMTBKOFSUTUXPRTMXBXNPCLRCEAEOIAWGGVVUSGIOEWLIQFOZKSPVMEBLOHLXDVCYSMGOPJEFCXMRUIGDXNCCRPMLCEWTPZMOQQSAWLPHPTDAWEYJOGQSOAVERCTNQQEAVTUGKLJAXMRTGTIEAFWPTZYIPKESMEAFCGJILSBPLDABNFVRJUXNGQSWIUIGWAAMLDRNNPDXGNPTTGLUHUOBMXSPQNDKBDBTEECLECGRDPTYBVRDATQHKQJMKEFROCLXNFKNSCWANNAHXTRGKCJTTRRUEMQZEAEIPAWEYPAJBBLHUEHMVUNFRPVMEDWEKMHRREOGZBDBROGCGANIUYIBNZQVXTGORUUCUTNBOEIZHEFWNBIGOZGTGWXNRHERBHPHGSIWXNPQMJVBCNEIDVVOAGLPONAPWYPXKEFKOCMQTRTIDZBNQKCPLTTNOBXMGLNRRDNNNQKDPLTLNSUTAXMNPTXMGEZKAEIKAGQ'"
      ]
     },
     "execution_count": 22,
     "metadata": {},
     "output_type": "execute_result"
    }
   ],
   "source": [
    "M = readTxt('mensaje.txt'); M"
   ]
  },
  {
   "cell_type": "markdown",
   "metadata": {},
   "source": [
    "Creamos una instancia de VigenereAttack usando M."
   ]
  },
  {
   "cell_type": "code",
   "execution_count": 23,
   "metadata": {},
   "outputs": [
    {
     "data": {
      "text/plain": [
       "<__main__.VigenereAttack at 0x7fa09ed45c50>"
      ]
     },
     "execution_count": 23,
     "metadata": {},
     "output_type": "execute_result"
    }
   ],
   "source": [
    "V = VigenereAttack(M); V"
   ]
  },
  {
   "cell_type": "markdown",
   "metadata": {},
   "source": [
    "Buscamos la longitud de la clave usando el test de Friedman:"
   ]
  },
  {
   "cell_type": "code",
   "execution_count": 24,
   "metadata": {},
   "outputs": [
    {
     "data": {
      "text/plain": [
       "7"
      ]
     },
     "execution_count": 24,
     "metadata": {},
     "output_type": "execute_result"
    }
   ],
   "source": [
    "K_LENGTH = V.find_key_length_friedman(); K_LENGTH"
   ]
  },
  {
   "cell_type": "markdown",
   "metadata": {},
   "source": [
    "También podemos buscar la longitud de la clave usando el test de Kasiski:"
   ]
  },
  {
   "cell_type": "code",
   "execution_count": 25,
   "metadata": {
    "scrolled": true
   },
   "outputs": [
    {
     "data": {
      "text/plain": [
       "7"
      ]
     },
     "execution_count": 25,
     "metadata": {},
     "output_type": "execute_result"
    }
   ],
   "source": [
    "K_LENGTH = V.find_key_length(); K_LENGTH"
   ]
  },
  {
   "cell_type": "markdown",
   "metadata": {},
   "source": [
    "Con la longitud de la clave ya conocida, podemos encontrar la clave usada:"
   ]
  },
  {
   "cell_type": "code",
   "execution_count": 26,
   "metadata": {
    "scrolled": true
   },
   "outputs": [
    {
     "data": {
      "text/plain": [
       "'CAPITAN'"
      ]
     },
     "execution_count": 26,
     "metadata": {},
     "output_type": "execute_result"
    }
   ],
   "source": [
    "K = V.find_key(K_LENGTH); K"
   ]
  },
  {
   "cell_type": "markdown",
   "metadata": {},
   "source": [
    "Finalmente, podemos descifrar el texto:"
   ]
  },
  {
   "cell_type": "code",
   "execution_count": 27,
   "metadata": {
    "scrolled": false
   },
   "outputs": [
    {
     "data": {
      "text/plain": [
       "'SENORDIJOELCAPITANNEMOMOSTRANDOMELOSINSTRUMENTOSCOLGADOSDELASPAREDESDESUCAMAROTEHEAQUILOSAPARATOSEXIGIDOSPORLANAVEGACIONDELNAUTILUSALIGUALQUEENELSALONLOSTENGOAQUIBAJOMISOJOSINDICANDOMEMISITUACIONYMIDIRECCIONEXACTASENMEDIODELOCEANOALGUNOSDEELLOSLESONCONOCIDOSCOMOELTERMOMETROQUEMARCALATEMPERATURAINTERIORDELNAUTILUSELBAROMETROQUEPESAELAIREYPREDICELOSCAMBIOSDETIEMPOELHIGROMETROQUEREGISTRAELGRADODESEQUEDADDELAATMOSFERAELSTORMGLASSCUYAMEZCLAALDESCOMPONERSEANUNCIALAINMINENCIADELASTEMPESTADESLABRUJULAQUEDIRIGEMIRUTAELSEXTANTEQUEPORLAALTURADELSOLMEINDICAMILATITUDLOSCRONOMETROSQUEMEPERMITENCALCULARMILONGITUDYPORULTIMOMISANTEOJOSDEDIAYDENOCHEQUEMESIRVENPARAESCRUTARTODOSLOSPUNTOSDELHORIZONTECUANDOELNAUTILUSEMERGEALASUPERFICIEDELASAGUASSONLOSINSTRUMENTOSHABITUALESDELNAVEGANTEYSUUSOMEESCONOCIDOREPUSEPEROHAYOTROSAQUIQUERESPONDENSINDUDAALASPARTICULARESEXIGENCIASDELNAUTILUSESECUADRANTEQUEVEORECORRIDOPORUNAAGUJAINMOVILNOESUNMANOMETROESUNMANOMETROENEFECTOPUESTOENCOMUNICACIONCONELAGUACUYAPRESIONEXTERIORINDICADATAMBIENLAPROFUNDIDADALAQUESEMANTIENEMIAPARATO'"
      ]
     },
     "execution_count": 27,
     "metadata": {},
     "output_type": "execute_result"
    }
   ],
   "source": [
    "Vigenere(M, K).encipher()"
   ]
  }
 ],
 "metadata": {
  "kernelspec": {
   "display_name": "Python 3",
   "language": "python",
   "name": "python3"
  },
  "language_info": {
   "codemirror_mode": {
    "name": "ipython",
    "version": 3
   },
   "file_extension": ".py",
   "mimetype": "text/x-python",
   "name": "python",
   "nbconvert_exporter": "python",
   "pygments_lexer": "ipython3",
   "version": "3.7.3"
  }
 },
 "nbformat": 4,
 "nbformat_minor": 2
}
