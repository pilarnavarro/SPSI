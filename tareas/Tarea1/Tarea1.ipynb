{
 "cells": [
  {
   "cell_type": "markdown",
   "metadata": {},
   "source": [
    "## Tarea 1)"
   ]
  },
  {
   "cell_type": "markdown",
   "metadata": {},
   "source": [
    "- Pilar Navarro Ramírez\n",
    "- Antonio Gámiz Delgado"
   ]
  },
  {
   "cell_type": "code",
   "execution_count": null,
   "metadata": {},
   "outputs": [],
   "source": [
    "def euclid(a,b):\n",
    "    \"\"\" Algoritmo extendido de Euclides\"\"\"\n",
    "    \n",
    "    a0,a1=a,b\n",
    "    s0,s1=1,0\n",
    "    t0,t1=0,1\n",
    "    while a1!=0:\n",
    "        q=a0//a1\n",
    "        a0,a1=a1,a0%a1\n",
    "        s0,s1=s1,s0-s1*q\n",
    "        t0,t1=t1,t0-t1*q\n",
    "    return a0,s0,t0"
   ]
  },
  {
   "cell_type": "code",
   "execution_count": null,
   "metadata": {},
   "outputs": [],
   "source": [
    "def inverso(a,m):\n",
    "    \"\"\" Inverso de a módulo m\"\"\"\n",
    "    g,s,t=euclid(m,a)\n",
    "    if g==1:\n",
    "        return t%m\n",
    "    return \"No existe el inverso módulo \"+str(m)+ \" de \"+str(a)"
   ]
  },
  {
   "cell_type": "code",
   "execution_count": null,
   "metadata": {},
   "outputs": [],
   "source": [
    "inverso(16,21)"
   ]
  },
  {
   "cell_type": "code",
   "execution_count": null,
   "metadata": {},
   "outputs": [],
   "source": [
    "def expR(m,n):\n",
    "    \"\"\" Exponenciación rápida\n",
    "    \n",
    "    Args:\n",
    "        m (int): número natural\n",
    "        n (int): exponente\n",
    "    \n",
    "    Returns:\n",
    "        int: m elevado a n\n",
    "    \"\"\"\n",
    "    if n==0:\n",
    "        return 1\n",
    "    sm,sn=m/abs(m), n/abs(n)\n",
    "    sp=sm*sn\n",
    "    m,n=abs(m),abs(n)\n",
    "    s=1\n",
    "    while n!=0:\n",
    "        if n%2!=0:\n",
    "            s=s*m\n",
    "        n=n>>1\n",
    "        m=m**2\n",
    "    return s if sp>0 else 1/s\n",
    "    \n",
    "def expR_mod(m,n,p):\n",
    "    \"\"\" Exponenciación rápida módulo p\n",
    "    \n",
    "    Args:\n",
    "        m (int): número natural\n",
    "        n (int): exponente\n",
    "        p (int): módulo\n",
    "    \n",
    "    Returns:\n",
    "        int: m elevado a n módulo p\n",
    "    \"\"\"\n",
    "    if n==0:\n",
    "        return 1\n",
    "    sm,sn=m/abs(m), n/abs(n)\n",
    "    sp=sm*sn\n",
    "    m,n=abs(m),abs(n)\n",
    "    s=1\n",
    "    while n!=0:\n",
    "        if n%2!=0:\n",
    "            s=s*m\n",
    "        n=n>>1\n",
    "        m=m**2\n",
    "    return expR(m,n) % p if sp > 0 else inverso(s,p)"
   ]
  },
  {
   "cell_type": "code",
   "execution_count": null,
   "metadata": {},
   "outputs": [],
   "source": [
    "expR(5,-2)"
   ]
  },
  {
   "cell_type": "code",
   "execution_count": null,
   "metadata": {},
   "outputs": [],
   "source": [
    "expR_mod(5,3,3)"
   ]
  },
  {
   "cell_type": "code",
   "execution_count": null,
   "metadata": {},
   "outputs": [],
   "source": [
    "expR_mod(3,-2,3)"
   ]
  },
  {
   "cell_type": "code",
   "execution_count": null,
   "metadata": {},
   "outputs": [],
   "source": [
    "expR_mod(2,-4,7)"
   ]
  }
 ],
 "metadata": {
  "kernelspec": {
   "display_name": "SageMath 9.1",
   "language": "sage",
   "name": "sagemath"
  },
  "language_info": {
   "codemirror_mode": {
    "name": "ipython",
    "version": 3
   },
   "file_extension": ".py",
   "mimetype": "text/x-python",
   "name": "python",
   "nbconvert_exporter": "python",
   "pygments_lexer": "ipython3",
   "version": "3.7.3"
  }
 },
 "nbformat": 4,
 "nbformat_minor": 2
}
